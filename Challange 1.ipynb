{
 "cells": [
  {
   "cell_type": "markdown",
   "metadata": {},
   "source": [
    "## Anagrams challange :"
   ]
  },
  {
   "cell_type": "markdown",
   "metadata": {},
   "source": [
    "A homework of 'Introduction to Theory Of Probabilities' ."
   ]
  },
  {
   "cell_type": "markdown",
   "metadata": {},
   "source": [
    "#### Project Goals:\n",
    "* __Load a dictionary of English words into a Python list__\n",
    "* __Create a Python dict of anagrams, indexed by anagrammed word__\n",
    "* __Challenge: Group dictionary words by their length and then find the total number of anagrams in each group__"
   ]
  },
  {
   "cell_type": "markdown",
   "metadata": {},
   "source": [
    "***"
   ]
  },
  {
   "cell_type": "markdown",
   "metadata": {},
   "source": [
    "__First, we want to load all the words from a file to a Python list__"
   ]
  },
  {
   "cell_type": "markdown",
   "metadata": {},
   "source": [
    "If we want to be very concise, we can import the words within a set constructor to remove duplicates. A list constructor, to go back to a list. And a sorted methods, to return a sorted list of the words."
   ]
  },
  {
   "cell_type": "code",
   "execution_count": 23,
   "metadata": {
    "scrolled": true
   },
   "outputs": [],
   "source": [
    "words = sorted(list(set([word.strip().lower() for word in open('words.txt','r')])))"
   ]
  },
  {
   "cell_type": "markdown",
   "metadata": {},
   "source": [
    "__After loading the words into a list , we want to create a Python dict of anagrams, indexed by sorted words__"
   ]
  },
  {
   "cell_type": "code",
   "execution_count": 24,
   "metadata": {},
   "outputs": [],
   "source": [
    "#This dictionary hold all the anagrams indexed by a sorted word\n",
    "anagrams ={}\n",
    "#Loop over the words list\n",
    "for i in words:\n",
    "    if  ''.join(sorted(i)) in anagrams: #checks if a word has an anagram key or not\n",
    "        anagrams[''.join(sorted(i))].append(i) #if there is , the word will get appended to the key values list\n",
    "    else:\n",
    "        anagrams[''.join(sorted(i))]=[i] #if not , a new key will be generated"
   ]
  },
  {
   "cell_type": "markdown",
   "metadata": {},
   "source": [
    "***"
   ]
  },
  {
   "cell_type": "markdown",
   "metadata": {},
   "source": [
    "__Now, After loading all words into a dictionary . We want to remove all keys that does not have any anagrams .__"
   ]
  },
  {
   "cell_type": "code",
   "execution_count": 25,
   "metadata": {
    "scrolled": true
   },
   "outputs": [],
   "source": [
    "#Here we looped over a list that contains all dictionary 'anagrams' keys\n",
    "#We put them in a list to provide RunTime Errors .\n",
    "for key in list(anagrams.keys()):\n",
    "        if len(anagrams[key]) < 2 : #If a key does not have any anagrams it will get deleted\n",
    "            del anagrams[key]"
   ]
  },
  {
   "cell_type": "markdown",
   "metadata": {},
   "source": [
    "***"
   ]
  },
  {
   "cell_type": "markdown",
   "metadata": {},
   "source": [
    "__Now , we want to put all anagrams into a new dictionary but now this dictionary is indexed by anagrams lengths .__"
   ]
  },
  {
   "cell_type": "code",
   "execution_count": 26,
   "metadata": {},
   "outputs": [],
   "source": [
    "#Here we created a dictionary to store anagrams indexed by their lengths\n",
    "lengths = {}\n",
    "#We looped over the anagrams\n",
    "for i in anagrams:\n",
    "   if len(i) in lengths: #If the anagram length is already in length the anagrams will be appended to to their length\n",
    "         lengths[len(i)].append(anagrams[i])\n",
    "   else:\n",
    "         lengths[len(i)]=anagrams[i] #Otherwise , a new index will be generated"
   ]
  },
  {
   "cell_type": "markdown",
   "metadata": {},
   "source": [
    "***"
   ]
  },
  {
   "cell_type": "markdown",
   "metadata": {},
   "source": [
    "__Finally. We printed the words lengths and the number of words of each length .__"
   ]
  },
  {
   "cell_type": "code",
   "execution_count": 27,
   "metadata": {},
   "outputs": [
    {
     "name": "stdout",
     "output_type": "stream",
     "text": [
      "There is  357  anagram with length of  3\n",
      "There is  2525  anagram with length of  7\n",
      "There is  2215  anagram with length of  8\n",
      "There is  1056  anagram with length of  4\n",
      "There is  41  anagram with length of  2\n",
      "There is  1784  anagram with length of  5\n",
      "There is  1680  anagram with length of  9\n",
      "There is  2608  anagram with length of  6\n",
      "There is  45  anagram with length of  15\n",
      "There is  1002  anagram with length of  10\n",
      "There is  511  anagram with length of  11\n",
      "There is  277  anagram with length of  12\n",
      "There is  23  anagram with length of  17\n",
      "There is  71  anagram with length of  14\n",
      "There is  122  anagram with length of  13\n",
      "There is  8  anagram with length of  19\n",
      "There is  5  anagram with length of  21\n",
      "There is  4  anagram with length of  20\n",
      "There is  36  anagram with length of  16\n",
      "There is  3  anagram with length of  22\n",
      "There is  11  anagram with length of  18\n"
     ]
    }
   ],
   "source": [
    "for l in lengths:\n",
    "    print(\"There is \",len(lengths[l]),\" anagram with length of \",l)"
   ]
  },
  {
   "cell_type": "markdown",
   "metadata": {},
   "source": [
    "<div class=\"alert alert-block alert-success\">\n",
    "<b>Extra:</b> Finding the anagrams of a word from user.\n",
    "</div>"
   ]
  },
  {
   "cell_type": "code",
   "execution_count": 30,
   "metadata": {},
   "outputs": [
    {
     "name": "stdout",
     "output_type": "stream",
     "text": [
      "abed\n",
      "['abed', 'bade', 'bead']\n",
      "There is  3  anagrams for the word abed\n"
     ]
    }
   ],
   "source": [
    "word = input()\n",
    "if ''.join(sorted(word)) in anagrams:\n",
    "    print(anagrams[''.join(sorted(word))])\n",
    "    print(\"There is \",len(anagrams[''.join(sorted(word))]),\" anagrams for the word\",word)\n",
    "else:\n",
    "    print(\"The word\",word,\"has no anagrams .\")"
   ]
  },
  {
   "cell_type": "markdown",
   "metadata": {},
   "source": [
    "***"
   ]
  }
 ],
 "metadata": {
  "kernelspec": {
   "display_name": "Python 3",
   "language": "python",
   "name": "python3"
  },
  "language_info": {
   "codemirror_mode": {
    "name": "ipython",
    "version": 3
   },
   "file_extension": ".py",
   "mimetype": "text/x-python",
   "name": "python",
   "nbconvert_exporter": "python",
   "pygments_lexer": "ipython3",
   "version": "3.7.1"
  }
 },
 "nbformat": 4,
 "nbformat_minor": 2
}
