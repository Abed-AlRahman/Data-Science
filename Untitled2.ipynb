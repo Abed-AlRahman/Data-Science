{
 "cells": [
  {
   "cell_type": "code",
   "execution_count": 12,
   "metadata": {},
   "outputs": [
    {
     "name": "stdout",
     "output_type": "stream",
     "text": [
      "   Time     YVals     ZVals\n",
      "0   0.0  0.000000  1.000000\n",
      "1   0.1  0.808736  0.588172\n",
      "2   0.2  0.951351 -0.308108\n",
      "3   0.3  0.310380 -0.950613\n",
      "4   0.4 -0.586238 -0.810139\n"
     ]
    }
   ],
   "source": [
    "import numpy as np\n",
    "import pandas as pd\n",
    "#Creating an array of the time\n",
    "time = np.arange(0,10,0.1)\n",
    "\n",
    "#Creating a data frame to store the time , sine and cosine directly \n",
    "table = pd.DataFrame({'Time':time, \n",
    "                      'YVals':np.sin(2*3.14*1.5*time), \n",
    "                      'ZVals':np.cos(2*3.14*1.5*time)})\n",
    "#Printing the first 5 elements of the data frame\n",
    "print(table.head())\n",
    "\n",
    "#Creating a new txt file to write on it \n",
    "outFile = open('out.txt','w')\n",
    "table[10:16][['YVals','ZVals']].to_csv(outFile,sep='#')\n",
    "\n"
   ]
  },
  {
   "cell_type": "code",
   "execution_count": null,
   "metadata": {},
   "outputs": [],
   "source": []
  }
 ],
 "metadata": {
  "kernelspec": {
   "display_name": "Python 3",
   "language": "python",
   "name": "python3"
  },
  "language_info": {
   "codemirror_mode": {
    "name": "ipython",
    "version": 3
   },
   "file_extension": ".py",
   "mimetype": "text/x-python",
   "name": "python",
   "nbconvert_exporter": "python",
   "pygments_lexer": "ipython3",
   "version": "3.7.1"
  }
 },
 "nbformat": 4,
 "nbformat_minor": 2
}
