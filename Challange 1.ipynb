{
 "cells": [
  {
   "cell_type": "code",
   "execution_count": 90,
   "metadata": {
    "scrolled": true
   },
   "outputs": [
    {
     "data": {
      "text/plain": [
       "{10: [['zyzzogeton']]}"
      ]
     },
     "execution_count": 90,
     "metadata": {},
     "output_type": "execute_result"
    }
   ],
   "source": [
    "\n",
    "words = sorted(list(set([word.strip().lower() for word in open('words.txt','r')])))\n",
    "\n",
    "\n",
    "anagrams ={}\n",
    "\n",
    "for i in words:\n",
    "    if ( ''.join(sorted(i)) in anagrams == True):\n",
    "        anagrams[''.join(sorted(i))].append(i)\n",
    "    else:\n",
    "        anagrams[''.join(sorted(i))]=[i];\n",
    "#anagrams\n",
    "\n",
    "lengths = {}\n",
    "\n",
    "for key,value in anagrams.items():\n",
    "    if(len(key) in lengths == True):\n",
    "        lengths[len(i)]+=[value]\n",
    "    else:\n",
    "        lengths[len(i)]=[value]\n",
    "    \n",
    "lengths\n"
   ]
  },
  {
   "cell_type": "code",
   "execution_count": null,
   "metadata": {},
   "outputs": [],
   "source": []
  },
  {
   "cell_type": "code",
   "execution_count": null,
   "metadata": {},
   "outputs": [],
   "source": []
  },
  {
   "cell_type": "code",
   "execution_count": null,
   "metadata": {},
   "outputs": [],
   "source": []
  },
  {
   "cell_type": "code",
   "execution_count": null,
   "metadata": {},
   "outputs": [],
   "source": []
  },
  {
   "cell_type": "code",
   "execution_count": null,
   "metadata": {},
   "outputs": [],
   "source": []
  }
 ],
 "metadata": {
  "kernelspec": {
   "display_name": "Python 3",
   "language": "python",
   "name": "python3"
  },
  "language_info": {
   "codemirror_mode": {
    "name": "ipython",
    "version": 3
   },
   "file_extension": ".py",
   "mimetype": "text/x-python",
   "name": "python",
   "nbconvert_exporter": "python",
   "pygments_lexer": "ipython3",
   "version": "3.7.1"
  }
 },
 "nbformat": 4,
 "nbformat_minor": 2
}
